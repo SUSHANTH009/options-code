{
 "cells": [
  {
   "cell_type": "code",
   "execution_count": 49,
   "metadata": {},
   "outputs": [],
   "source": [
    "from pybit.unified_trading import HTTP\n",
    "from datetime import datetime,date,timedelta\n",
    "import random\n",
    "import string\n",
    "import numpy as np"
   ]
  },
  {
   "cell_type": "code",
   "execution_count": 50,
   "metadata": {},
   "outputs": [],
   "source": [
    "class BybitAPI:\n",
    "    def __init__(self):\n",
    "    \n",
    "        self.session = HTTP(\n",
    "            demo = True,\n",
    "            testnet=False,\n",
    "            api_key=\"mnOVAECL9uVKglkk6D\",\n",
    "            api_secret=\"HfFEJklZBhTHkTySnoCYxCm9Zs4xNH8SC0s1\")\n",
    "\n",
    "    def order(self,category, symbol, side, order_type, qty):\n",
    "\n",
    "        orderLinkId = ''.join(random.choices(string.ascii_uppercase + string.digits, k=7))\n",
    "        self.session.place_order(category = category,symbol = symbol,side = side,order_type = order_type,qty = qty,orderLinkId = orderLinkId)\n",
    "\n",
    "    def get_option_delta(self):\n",
    "\n",
    "        self.BTC_USDC_Value = float(self.session.get_tickers(category=\"spot\",symbol=\"BTCUSDC\")['result']['list'][0]['lastPrice'])\n",
    "\n",
    "        strike_interval = 500\n",
    "        atm_strike = round(self.BTC_USDC_Value / strike_interval) * strike_interval\n",
    "\n",
    "        expiry = date.today() + timedelta(days=1)\n",
    "        formatted_date = expiry.strftime('%d%b%y').upper()\n",
    "\n",
    "        self.strike_ticker = f'BTC-{formatted_date}-{atm_strike}-C'\n",
    "        option = self.session.get_tickers(category=\"option\",symbol=self.strike_ticker)\n",
    "\n",
    "        return option['result']['list'][0]['delta']"
   ]
  },
  {
   "cell_type": "code",
   "execution_count": 51,
   "metadata": {},
   "outputs": [],
   "source": [
    "class grid_bot_trading(BybitAPI):\n",
    "    \n",
    "    def __init__(self):\n",
    "        \n",
    "        super().__init__()\n",
    "        #amount of option to buy\n",
    "        self.option_quantity = 0.2\n",
    "\n",
    "    def execute(self):\n",
    "        self.intialise_trade()\n",
    "        self.intialize_grid()\n",
    "    \n",
    "    def intialise_trade(self):\n",
    "\n",
    "        #get option delta\n",
    "        self.delta = self.get_option_delta()\n",
    "\n",
    "        #total amount of btc to short\n",
    "        self.amount_btc = float(round((float(self.delta) * self.option_quantity),3))\n",
    "\n",
    "        #intialise trade\n",
    "        self.order(\"option\",self.strike_ticker,\"Buy\",\"Market\",\"0.2\")\n",
    "        self.order(\"linear\",\"BTCPERP\",\"Sell\",\"Market\",self.amount_btc)\n",
    "\n",
    "        #average entry price\n",
    "        position_info = self.session.get_positions(category=\"linear\",symbol=\"BTCPERP\")\n",
    "        self.avg_entry_price = float(position_info['result']['list'][0]['avgPrice'])\n",
    "\n",
    "    @staticmethod\n",
    "    def calculate_mid_prices_range(grid_prices):\n",
    "        mid_prices = [(grid_prices[i] + grid_prices[i + 1]) / 2 for i in range(1, len(grid_prices) - 1)]\n",
    "        return mid_prices\n",
    "    \n",
    "    @staticmethod\n",
    "    def divide_range(x, y, intervals=10):\n",
    "        step = (y - x) / intervals\n",
    "        grid_prices = [x + step * i for i in range(1, intervals + 1)]\n",
    "        return grid_prices\n",
    "    \n",
    "    def intialize_grid(self):\n",
    "        #number of grid levels \n",
    "        self.grid_levels = 10\n",
    "        \n",
    "        #btc value at which entire short position will be closed\n",
    "        self.selloff_price = ((self.avg_entry_price*self.amount_btc)-(self.avg_entry_price*self.amount_btc*0.025))/self.amount_btc\n",
    "\n",
    "        #amount of btc to be brought at each level\n",
    "        self.qty_per_level = round((self.amount_btc / self.grid_levels),3)\n",
    "\n",
    "        #grid prices to be sold off\n",
    "        self.grid_sell_prices = grid_bot_trading.divide_range(self.avg_entry_price,self.selloff_price)\n",
    "        # self.grid_buy_prices = grid_bot_trading.calculate_mid_prices_range(self.grid_sell_prices)\n",
    "\n",
    "        request = []\n",
    "        for i in self.grid_sell_prices:\n",
    "            orderLinkId = ''.join(random.choices(string.ascii_uppercase + string.digits, k=7))\n",
    "\n",
    "            request_1 = {\n",
    "                \"symbol\": \"BTCPERP\",\n",
    "                \"side\": \"Buy\",\n",
    "                \"orderType\": \"Limit\",\n",
    "                \"qty\": str(self.qty_per_level),\n",
    "                \"price\": str(i),\n",
    "                \"orderLinkId\": orderLinkId\n",
    "                }\n",
    "            \n",
    "            request.append(request_1)\n",
    "\n",
    "        self.session.place_batch_order(category=\"linear\",request=request)"
   ]
  },
  {
   "cell_type": "code",
   "execution_count": 52,
   "metadata": {},
   "outputs": [],
   "source": [
    "obj = grid_bot_trading()\n",
    "obj.execute()"
   ]
  },
  {
   "cell_type": "code",
   "execution_count": 47,
   "metadata": {},
   "outputs": [
    {
     "name": "stdout",
     "output_type": "stream",
     "text": [
      "[{'symbol': 'BTCPERP', 'side': 'Buy', 'orderType': 'Limit', 'qty': '2013', 'price': '60179.175', 'orderLinkId': 'QJF2SNB'}, {'symbol': 'BTCPERP', 'side': 'Buy', 'orderType': 'Limit', 'qty': '2013', 'price': '60028.35', 'orderLinkId': 'SZ211FX'}, {'symbol': 'BTCPERP', 'side': 'Buy', 'orderType': 'Limit', 'qty': '2013', 'price': '59877.525', 'orderLinkId': 'XP38T38'}, {'symbol': 'BTCPERP', 'side': 'Buy', 'orderType': 'Limit', 'qty': '2013', 'price': '59726.700000000004', 'orderLinkId': 'RW259IW'}, {'symbol': 'BTCPERP', 'side': 'Buy', 'orderType': 'Limit', 'qty': '2013', 'price': '59575.875', 'orderLinkId': 'X494NH2'}, {'symbol': 'BTCPERP', 'side': 'Buy', 'orderType': 'Limit', 'qty': '2013', 'price': '59425.05', 'orderLinkId': 'JJP9HYH'}, {'symbol': 'BTCPERP', 'side': 'Buy', 'orderType': 'Limit', 'qty': '2013', 'price': '59274.225000000006', 'orderLinkId': 'NACQOCU'}, {'symbol': 'BTCPERP', 'side': 'Buy', 'orderType': 'Limit', 'qty': '2013', 'price': '59123.40000000001', 'orderLinkId': 'BWYJFL1'}, {'symbol': 'BTCPERP', 'side': 'Buy', 'orderType': 'Limit', 'qty': '2013', 'price': '58972.575000000004', 'orderLinkId': '6EIQMV4'}, {'symbol': 'BTCPERP', 'side': 'Buy', 'orderType': 'Limit', 'qty': '2013', 'price': '58821.75000000001', 'orderLinkId': 'YD176CU'}]\n"
     ]
    }
   ],
   "source": [
    "request = []\n",
    "for i in obj.grid_sell_prices:\n",
    "    orderLinkId = ''.join(random.choices(string.ascii_uppercase + string.digits, k=7))\n",
    "    request_1 = {\n",
    "        \"symbol\": \"BTCPERP\",\n",
    "        \"side\": \"Buy\",\n",
    "        \"orderType\": \"Limit\",\n",
    "        \"qty\": str(2013),\n",
    "        \"price\": str(i),\n",
    "        \"orderLinkId\": orderLinkId\n",
    "        }\n",
    "    \n",
    "    request.append(request_1)\n",
    "print(request)"
   ]
  },
  {
   "cell_type": "code",
   "execution_count": null,
   "metadata": {},
   "outputs": [],
   "source": []
  }
 ],
 "metadata": {
  "kernelspec": {
   "display_name": "trading",
   "language": "python",
   "name": "python3"
  },
  "language_info": {
   "codemirror_mode": {
    "name": "ipython",
    "version": 3
   },
   "file_extension": ".py",
   "mimetype": "text/x-python",
   "name": "python",
   "nbconvert_exporter": "python",
   "pygments_lexer": "ipython3",
   "version": "3.10.14"
  }
 },
 "nbformat": 4,
 "nbformat_minor": 2
}
